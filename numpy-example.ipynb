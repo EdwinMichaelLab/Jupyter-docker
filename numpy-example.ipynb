{
 "cells": [
  {
   "cell_type": "code",
   "execution_count": 1,
   "id": "024ff406",
   "metadata": {},
   "outputs": [
    {
     "name": "stdout",
     "output_type": "stream",
     "text": [
      "[1 2 3]\n",
      "1\n",
      "[10 10 10]\n",
      "[-8 -6 -4]\n",
      "[ 9 16 21]\n",
      "[0.11111111 0.25       0.42857143]\n",
      "[[14 14 14]\n",
      " [32 32 32]\n",
      " [50 50 50]]\n",
      "0.0\n"
     ]
    },
    {
     "data": {
      "text/plain": [
       "Text(0.5, 1.0, 'y = (1/2)t^2')"
      ]
     },
     "execution_count": 1,
     "metadata": {},
     "output_type": "execute_result"
    },
    {
     "data": {
      "image/png": "[encoded data removed]",
      "text/plain": [
       "<Figure size 432x288 with 1 Axes>"
      ]
     },
     "metadata": {
      "needs_background": "light"
     },
     "output_type": "display_data"
    }
   ],
   "source": [
    "import numpy as np\n",
    "#Here, we grab all of the functions and tools from the numpy package and store them in a local variable called np.\n",
    "#You can call that variable whatever you like, but 'np' is standard.\n",
    "\n",
    "#numpy has arrays, which function similarly to python lists. \n",
    "a = np.array([1,2,3])\n",
    "b = np.array([9,8,7])\n",
    "#Be careful with syntax. The parentheses and brackets are both required!\n",
    "print(a)\n",
    "\n",
    "#Access elements from them just like you would a regular list\n",
    "print(a[0])\n",
    "\n",
    "#Element-wise operations are a breeze!\n",
    "c = a + b\n",
    "d = a - b\n",
    "e = a * b\n",
    "f = a / b\n",
    "\n",
    "print(c)\n",
    "print(d)\n",
    "print(e)\n",
    "print(f)\n",
    "#This is different from MATLAB where you add a dot to get element wise operators.\n",
    "\n",
    "#What about multi-dimensional arrays? Matrices!\n",
    "\n",
    "#You just nest lists within lists! \n",
    "A = np.array( [[1,2,3], [4,5,6], [7,8,9]] )\n",
    "B = np.array( [[1,1,1], [2,2,2], [3,3,3]] )\n",
    "\n",
    "#Then matrix multlication\n",
    "C = np.matmul(A,B)\n",
    " \n",
    "print(C)\n",
    "\n",
    "#Or determinants:\n",
    "print(np.linalg.det(A))\n",
    "\n",
    "\n",
    "#Now, let's use numpy for something essential for you: Numeric Integration\n",
    "\n",
    "#Define the function you want to integrate....\n",
    "#dy/dt = t:\n",
    "def deriv(y,t):\n",
    "    return t\n",
    "#Note this doesn't use y in the return. That is okay, but we need to include it just to satisfy the function we will use.\n",
    "\n",
    "#Set your initial or boundary condition\n",
    "IC = 0\n",
    "\n",
    "#Give the number of points to evaluate the integration\n",
    "start_time = 0\n",
    "end_time = 10\n",
    "num_times = 101\n",
    "times = np.linspace(start_time, end_time, num_times)\n",
    "\n",
    "from scipy.integrate import odeint\n",
    "integrated_func = odeint(deriv,IC,times)\n",
    "\n",
    "#Can we plot the result? You betcha. Just import a new package\n",
    "%matplotlib inline\n",
    "import matplotlib.pyplot as plt\n",
    "from ipywidgets import interact\n",
    "\n",
    "plt.plot(times, integrated_func)\n",
    "plt.title(\"y = (1/2)t^2\")\n",
    "#Very similar to MATLAB!"
   ]
  },
  {
   "cell_type": "code",
   "execution_count": null,
   "id": "c41608fb",
   "metadata": {},
   "outputs": [],
   "source": []
  }
 ],
 "metadata": {
  "kernelspec": {
   "display_name": "Python 3 (ipykernel)",
   "language": "python",
   "name": "python3"
  },
  "language_info": {
   "codemirror_mode": {
    "name": "ipython",
    "version": 3
   },
   "file_extension": ".py",
   "mimetype": "text/x-python",
   "name": "python",
   "nbconvert_exporter": "python",
   "pygments_lexer": "ipython3",
   "version": "3.9.7"
  }
 },
 "nbformat": 4,
 "nbformat_minor": 5
}
