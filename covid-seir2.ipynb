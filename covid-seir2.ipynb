{
 "cells": [
  {
   "cell_type": "code",
   "execution_count": 2,
   "id": "09f8d614",
   "metadata": {},
   "outputs": [
    {
     "data": {
      "text/plain": [
       "'plot_temp.html'"
      ]
     },
     "execution_count": 2,
     "metadata": {},
     "output_type": "execute_result"
    }
   ],
   "source": [
    "import numpy as np\n",
    "from scipy.integrate import odeint\n",
    "import matplotlib.pyplot as plt\n",
    "from plotly.subplots import make_subplots\n",
    "import plotly.graph_objects as go\n",
    "import  plotly as py\n",
    "import pandas as pd\n",
    "\n",
    "# Total population, N.\n",
    "N = 1000000\n",
    "# Initial number of infected and recovered individuals, I0 and R0.\n",
    "IA0, IP0, IM0, IH0, IC0, R10, R20, D0 = 1, 1, 1, 1, 1, 0, 0, 0\n",
    "E0 = np.arange(2, 500, 1)[0]\n",
    "# Everyone else, S0, is susceptible to infection initially.\n",
    "S0 = N - E0\n",
    "\n",
    "# Parameters\n",
    "β =  np.arange(0.1428, 1.5, 0.1)[0]\n",
    "α = 2.0    #-set to quickly move S --> R1 at lockdown start\n",
    "σ = np.arange(0.16, 0.5, 0.1)[0] # inverse of 2-6 days\n",
    "ρ = np.arange(0.25, 0.5, 0.1)[0] # 25-50% of cases are asymptomatic\n",
    "γA = np.arange(0.125, 0.33, 0.1)[0] # gammaA inverse of 4-14 days recovery\n",
    "γM = np.arange(0.125, 0.33, 0.1)[0]\n",
    "γH = np.arange(0.125, 0.33, 0.1)[0]\n",
    "γC = np.arange(0.125, 0.33, 0.1)[0]\n",
    "δ1 = np.arange(0.05, 1, 0.05)[0] #inverse of 1-10 days - modified to 1-20 days\n",
    "δ2 = np.arange(0.06, 0.25, 0.05)[0] #inverse of 4-15 days\n",
    "δ3 = np.arange(0.09, 1, 0.05)[0] #inverse of 1-11 days\n",
    "m = np.arange(0.08, 0.25, 0.1)[0]\n",
    "ξ = np.arange(0.1, 0.3, 0.1)[0] #proportion of symptomatic cases undetected\n",
    "x1 = np.arange(0.05, 0.3, 0.1)[0]\n",
    "x2 = np.arange(0.2, 0.3, 0.1)[0]\n",
    "x3 = np.arange(0.2, 0.8, 0.1)[0]\n",
    "d = 0.9 #np.arange(0.1, 0.4, 0.1)[0] #1-[0.58 0.85]\n",
    "q = 0\n",
    "λ = 4.6849\n",
    "\n",
    "# A grid of time points (in days)\n",
    "t = np.linspace(0, 365, 365)\n",
    "\n",
    "# The SIR model differential equations.\n",
    "def deriv(y, t, N, β, α, σ, ρ, γA, γM, γH, γC, δ1, δ2, δ3, m, ξ, x1, x2, x3, d, q, λ):\n",
    "    S, E, IA, IP, IM, IH, IC, R1, R2, D = y\n",
    "    dSdt = -d*β*S*(1-q)*(IA+IP+IM+IH+IC)/N\n",
    "    dEdt = d*β*S*(1-q)*(IA+IP+IM+IH+IC)/N - σ*ρ*E - σ*(1-ρ)*E\n",
    "    dIAdt = σ*ρ*E - γA*IA\n",
    "    dIPdt = σ*(1-ρ)*E - (δ1*IP)\n",
    "    dIMdt = δ1*IP - x1*δ2*IM - (1-x1)*γM*IM\n",
    "    dIHdt = x1*δ2*IM - x2*δ3*IH - (1-x2)*γH*IH\n",
    "    dICdt = x2*δ3*IH - (1-x3)*γC*IC - x3*m*IC\n",
    "    dR1dt = 0\n",
    "    dR2dt = γA*IA + (1-x1)*γM*IM + (1-x2)*γH*IH + (1-x3)*γC*IC\n",
    "    dDdt  = x3*m*IC\n",
    "    return dSdt, dEdt, dIAdt, dIPdt, dIMdt, dIHdt, dICdt, dR1dt, dR2dt, dDdt\n",
    "\n",
    "# Initial conditions vector\n",
    "y0 = S0, E0, IA0, IP0, IM0, IH0, IC0, R10, R20, D0\n",
    "# Integrate the SIR equations over the time grid, t.\n",
    "ret = odeint(deriv, y0, t, args=(N, β, α, σ, ρ, γA, γM, γH, γC, δ1, δ2, δ3, m, ξ, x1, x2, x3, d, q, λ))\n",
    "S, E, IA, IP, IM, IH, IC, R1, R2, D = ret.T\n",
    "\n",
    "df = pd.DataFrame()\n",
    "df['t'] = t.astype(np.int64)\n",
    "df['I'] = IA+IP+IM+IH+IC\n",
    "df['H'] = IH + IC\n",
    "df.to_csv ('no_variant.csv', index = False, header=True)\n",
    "# Create traces\n",
    "fig = make_subplots(rows=1, cols=1, shared_xaxes=True, vertical_spacing=0.01, horizontal_spacing=0.05)\n",
    "# fig.add_trace(go.Scatter(x=t, y=S, mode='lines', name='S', line = dict(color='blue')), row=1, col=1)\n",
    "# fig.add_trace(go.Scatter(x=t, y=E, mode='lines', name='E', line = dict(color='orange')), row=1, col=1)\n",
    "fig.add_trace(go.Scatter(x=t, y=IA+IP+IM+IH+IC, mode='lines', name='Infections', line = dict(color='black')), row=1, col=1)\n",
    "# # fig.add_trace(go.Scatter(x=t, y=IP, mode='lines', name='IP', line = dict(color='red')), row=1, col=1)\n",
    "# # fig.add_trace(go.Scatter(x=t, y=IM, mode='lines', name='IM', line = dict(color='red', dash='dash')), row=1, col=1)\n",
    "# # fig.add_trace(go.Scatter(x=t, y=IH, mode='lines', name='IH', line = dict(color='red', dash='dot')), row=1, col=1)\n",
    "# # fig.add_trace(go.Scatter(x=t, y=IC, mode='lines', name='IC', line = dict(color='red', dash='dashdot')), row=1, col=1)\n",
    "# # fig.add_trace(go.Scatter(x=t, y=R1, mode='lines', name='R1', line = dict(color='green', dash='dash')), row=1, col=1)\n",
    "# fig.add_trace(go.Scatter(x=t, y=R2, mode='lines', name='R2', line = dict(color='green')), row=1, col=1)\n",
    "# fig.add_trace(go.Scatter(x=t, y=D, mode='lines', name='D', line = dict(color='black')), row=1, col=1)\n",
    "\n",
    "# I = All combined\n",
    "# I Confirmed = ALl - IA (70% IP + IM + IH + IC)\n",
    "# Hos = IH + IC\n",
    "\n",
    "\n",
    "\n",
    "# fig.update_yaxes(type=\"log\")\n",
    "fig.update_layout(showlegend=True,  autosize=True, width=1024*1.5, height=800, xaxis = dict(dtick=10), yaxis = dict(dtick=N*0.1))\n",
    "py.offline.plot(fig, filename='plot_temp.html')"
   ]
  },
  {
   "cell_type": "code",
   "execution_count": null,
   "id": "f3861fe0",
   "metadata": {},
   "outputs": [],
   "source": []
  },
  {
   "cell_type": "code",
   "execution_count": null,
   "id": "aeb39448",
   "metadata": {},
   "outputs": [],
   "source": []
  }
 ],
 "metadata": {
  "kernelspec": {
   "display_name": "Python 3 (ipykernel)",
   "language": "python",
   "name": "python3"
  },
  "language_info": {
   "codemirror_mode": {
    "name": "ipython",
    "version": 3
   },
   "file_extension": ".py",
   "mimetype": "text/x-python",
   "name": "python",
   "nbconvert_exporter": "python",
   "pygments_lexer": "ipython3",
   "version": "3.9.7"
  }
 },
 "nbformat": 4,
 "nbformat_minor": 5
}
